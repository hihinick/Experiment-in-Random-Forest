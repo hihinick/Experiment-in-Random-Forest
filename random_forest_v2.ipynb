{
 "cells": [
  {
   "cell_type": "code",
   "execution_count": 6,
   "id": "d6d43867",
   "metadata": {},
   "outputs": [],
   "source": [
    "from sklearn.ensemble import RandomForestClassifier\n",
    "from sklearn.metrics import confusion_matrix\n",
    "import matplotlib.pyplot as plt\n",
    "from sklearn.utils import shuffle\n",
    "from itertools import permutations\n",
    "from itertools import combinations \n",
    "from sklearn.metrics import accuracy_score\n",
    "import seaborn as sns\n",
    "import pandas as pd\n",
    "import numpy as np \n",
    "import os"
   ]
  },
  {
   "cell_type": "code",
   "execution_count": 25,
   "id": "69ce4e27",
   "metadata": {},
   "outputs": [
    {
     "data": {
      "text/plain": [
       "array([[1.  , 0.4 , 0.1 ],\n",
       "       [0.8 , 0.02, 0.02],\n",
       "       [0.7 , 0.2 , 0.24]])"
      ]
     },
     "execution_count": 25,
     "metadata": {},
     "output_type": "execute_result"
    }
   ],
   "source": [
    "mat = np.array([[100,100,100],[100,250,180],[190,130,200]])#1\n",
    "mat = np.array([[150,250,130],[100,120,100],[80,100,120]])#2\n",
    "mat = np.array([[150,100,100],[200,250,180],[300,500,450]])#3\n",
    "mat = np.array([[500,200,50],[400,10,10],[350,100,120]])#4\n",
    "mat = mat/mat.max()\n",
    "mat"
   ]
  },
  {
   "cell_type": "code",
   "execution_count": 26,
   "id": "c7ef19c8",
   "metadata": {},
   "outputs": [],
   "source": [
    "f, ax = plt.subplots(figsize=(9, 6))\n",
    "sns.heatmap(mat, square=True, cmap='Blues')\n",
    "f.savefig('1.png')"
   ]
  },
  {
   "cell_type": "code",
   "execution_count": null,
   "id": "78183919",
   "metadata": {},
   "outputs": [],
   "source": []
  },
  {
   "cell_type": "code",
   "execution_count": 2,
   "id": "6496f70c",
   "metadata": {},
   "outputs": [],
   "source": [
    "#讀檔\n",
    "file_name = 'forpy'\n",
    "data_original = pd.read_csv(file_name + '.csv')"
   ]
  },
  {
   "cell_type": "code",
   "execution_count": 3,
   "id": "900ca9a1",
   "metadata": {},
   "outputs": [],
   "source": [
    "#創建放圖片資料夾\n",
    "path = '5群結果'\n",
    "if not os.path.isdir(os.path.abspath(path)):\n",
    "    os.makedirs(os.path.abspath(path))"
   ]
  },
  {
   "cell_type": "code",
   "execution_count": 5,
   "id": "b713857f",
   "metadata": {},
   "outputs": [],
   "source": [
    "#要存結果的檔名\n",
    "result_name = 'result'"
   ]
  },
  {
   "cell_type": "code",
   "execution_count": 6,
   "id": "2113f11f",
   "metadata": {},
   "outputs": [],
   "source": [
    "#打亂順序，存成 file_name_shuffle.csv\n",
    "data = shuffle(data_original)\n",
    "data = data.reset_index(drop=True)\n",
    "data.to_csv(file_name + '_shuffle.csv')"
   ]
  },
  {
   "cell_type": "code",
   "execution_count": 7,
   "id": "a64d8eb8",
   "metadata": {},
   "outputs": [
    {
     "data": {
      "text/html": [
       "<div>\n",
       "<style scoped>\n",
       "    .dataframe tbody tr th:only-of-type {\n",
       "        vertical-align: middle;\n",
       "    }\n",
       "\n",
       "    .dataframe tbody tr th {\n",
       "        vertical-align: top;\n",
       "    }\n",
       "\n",
       "    .dataframe thead th {\n",
       "        text-align: right;\n",
       "    }\n",
       "</style>\n",
       "<table border=\"1\" class=\"dataframe\">\n",
       "  <thead>\n",
       "    <tr style=\"text-align: right;\">\n",
       "      <th></th>\n",
       "      <th>0</th>\n",
       "      <th>0.1</th>\n",
       "      <th>1</th>\n",
       "      <th>0.2</th>\n",
       "      <th>0.3</th>\n",
       "      <th>0.4</th>\n",
       "      <th>0.5</th>\n",
       "      <th>0.6</th>\n",
       "      <th>1.1</th>\n",
       "    </tr>\n",
       "  </thead>\n",
       "  <tbody>\n",
       "    <tr>\n",
       "      <th>0</th>\n",
       "      <td>1.0</td>\n",
       "      <td>0.0</td>\n",
       "      <td>0</td>\n",
       "      <td>0.666667</td>\n",
       "      <td>0.000000</td>\n",
       "      <td>0.53</td>\n",
       "      <td>0</td>\n",
       "      <td>0</td>\n",
       "      <td>5</td>\n",
       "    </tr>\n",
       "    <tr>\n",
       "      <th>1</th>\n",
       "      <td>0.0</td>\n",
       "      <td>0.0</td>\n",
       "      <td>1</td>\n",
       "      <td>0.000000</td>\n",
       "      <td>0.000000</td>\n",
       "      <td>0.00</td>\n",
       "      <td>0</td>\n",
       "      <td>0</td>\n",
       "      <td>4</td>\n",
       "    </tr>\n",
       "    <tr>\n",
       "      <th>2</th>\n",
       "      <td>0.0</td>\n",
       "      <td>0.5</td>\n",
       "      <td>0</td>\n",
       "      <td>0.666667</td>\n",
       "      <td>0.000000</td>\n",
       "      <td>0.46</td>\n",
       "      <td>0</td>\n",
       "      <td>1</td>\n",
       "      <td>1</td>\n",
       "    </tr>\n",
       "    <tr>\n",
       "      <th>3</th>\n",
       "      <td>0.0</td>\n",
       "      <td>0.0</td>\n",
       "      <td>0</td>\n",
       "      <td>0.000000</td>\n",
       "      <td>0.000000</td>\n",
       "      <td>0.37</td>\n",
       "      <td>0</td>\n",
       "      <td>1</td>\n",
       "      <td>3</td>\n",
       "    </tr>\n",
       "    <tr>\n",
       "      <th>4</th>\n",
       "      <td>0.0</td>\n",
       "      <td>0.0</td>\n",
       "      <td>1</td>\n",
       "      <td>0.000000</td>\n",
       "      <td>0.004082</td>\n",
       "      <td>0.01</td>\n",
       "      <td>0</td>\n",
       "      <td>0</td>\n",
       "      <td>3</td>\n",
       "    </tr>\n",
       "    <tr>\n",
       "      <th>...</th>\n",
       "      <td>...</td>\n",
       "      <td>...</td>\n",
       "      <td>...</td>\n",
       "      <td>...</td>\n",
       "      <td>...</td>\n",
       "      <td>...</td>\n",
       "      <td>...</td>\n",
       "      <td>...</td>\n",
       "      <td>...</td>\n",
       "    </tr>\n",
       "    <tr>\n",
       "      <th>2062</th>\n",
       "      <td>0.0</td>\n",
       "      <td>0.0</td>\n",
       "      <td>0</td>\n",
       "      <td>0.333333</td>\n",
       "      <td>0.000000</td>\n",
       "      <td>0.71</td>\n",
       "      <td>0</td>\n",
       "      <td>1</td>\n",
       "      <td>2</td>\n",
       "    </tr>\n",
       "    <tr>\n",
       "      <th>2063</th>\n",
       "      <td>0.0</td>\n",
       "      <td>0.0</td>\n",
       "      <td>1</td>\n",
       "      <td>0.000000</td>\n",
       "      <td>0.000000</td>\n",
       "      <td>0.00</td>\n",
       "      <td>0</td>\n",
       "      <td>0</td>\n",
       "      <td>2</td>\n",
       "    </tr>\n",
       "    <tr>\n",
       "      <th>2064</th>\n",
       "      <td>0.5</td>\n",
       "      <td>0.0</td>\n",
       "      <td>0</td>\n",
       "      <td>0.666667</td>\n",
       "      <td>0.000000</td>\n",
       "      <td>0.53</td>\n",
       "      <td>0</td>\n",
       "      <td>1</td>\n",
       "      <td>3</td>\n",
       "    </tr>\n",
       "    <tr>\n",
       "      <th>2065</th>\n",
       "      <td>0.0</td>\n",
       "      <td>0.0</td>\n",
       "      <td>1</td>\n",
       "      <td>0.000000</td>\n",
       "      <td>0.000000</td>\n",
       "      <td>0.39</td>\n",
       "      <td>0</td>\n",
       "      <td>1</td>\n",
       "      <td>3</td>\n",
       "    </tr>\n",
       "    <tr>\n",
       "      <th>2066</th>\n",
       "      <td>0.0</td>\n",
       "      <td>0.0</td>\n",
       "      <td>1</td>\n",
       "      <td>0.666667</td>\n",
       "      <td>0.000000</td>\n",
       "      <td>0.50</td>\n",
       "      <td>0</td>\n",
       "      <td>1</td>\n",
       "      <td>2</td>\n",
       "    </tr>\n",
       "  </tbody>\n",
       "</table>\n",
       "<p>2067 rows × 9 columns</p>\n",
       "</div>"
      ],
      "text/plain": [
       "        0  0.1  1       0.2       0.3   0.4  0.5  0.6  1.1\n",
       "0     1.0  0.0  0  0.666667  0.000000  0.53    0    0    5\n",
       "1     0.0  0.0  1  0.000000  0.000000  0.00    0    0    4\n",
       "2     0.0  0.5  0  0.666667  0.000000  0.46    0    1    1\n",
       "3     0.0  0.0  0  0.000000  0.000000  0.37    0    1    3\n",
       "4     0.0  0.0  1  0.000000  0.004082  0.01    0    0    3\n",
       "...   ...  ... ..       ...       ...   ...  ...  ...  ...\n",
       "2062  0.0  0.0  0  0.333333  0.000000  0.71    0    1    2\n",
       "2063  0.0  0.0  1  0.000000  0.000000  0.00    0    0    2\n",
       "2064  0.5  0.0  0  0.666667  0.000000  0.53    0    1    3\n",
       "2065  0.0  0.0  1  0.000000  0.000000  0.39    0    1    3\n",
       "2066  0.0  0.0  1  0.666667  0.000000  0.50    0    1    2\n",
       "\n",
       "[2067 rows x 9 columns]"
      ]
     },
     "execution_count": 7,
     "metadata": {},
     "output_type": "execute_result"
    }
   ],
   "source": [
    "data"
   ]
  },
  {
   "cell_type": "markdown",
   "id": "c2871ca2",
   "metadata": {},
   "source": [
    "# 列出所有排列組合"
   ]
  },
  {
   "cell_type": "code",
   "execution_count": 8,
   "id": "e6c6fb26",
   "metadata": {},
   "outputs": [
    {
     "name": "stdout",
     "output_type": "stream",
     "text": [
      "排列組合數量 = 255\n"
     ]
    }
   ],
   "source": [
    "#列出所有排列組合，存在 All_set 內\n",
    "col = data.columns\n",
    "col = col[:-1]\n",
    "lis = col \n",
    "all_set = []\n",
    "for i in range(1, len(lis) + 1):\n",
    "    all_set.append(list(combinations(lis, i)))\n",
    "c = 0\n",
    "All_set = []\n",
    "for i in range(len(all_set)):\n",
    "    c+=len(all_set[i])\n",
    "    for a in range(len(all_set[i])):\n",
    "        All_set.append(list(all_set[i][a]))\n",
    "print('排列組合數量 =',c)"
   ]
  },
  {
   "cell_type": "code",
   "execution_count": 9,
   "id": "cf265aa8",
   "metadata": {},
   "outputs": [],
   "source": [
    "#All_set"
   ]
  },
  {
   "cell_type": "markdown",
   "id": "592a656e",
   "metadata": {},
   "source": [
    "# 開始跑所有排列組合"
   ]
  },
  {
   "cell_type": "code",
   "execution_count": 10,
   "id": "ee913959",
   "metadata": {},
   "outputs": [],
   "source": [
    "def train_test_split(data, test_size):\n",
    "    lenth = len(data)\n",
    "    split = int(lenth*(1-test_size))\n",
    "    train = data[:split]\n",
    "    test = data[split:]\n",
    "    return train, test"
   ]
  },
  {
   "cell_type": "code",
   "execution_count": 21,
   "id": "e743be72",
   "metadata": {},
   "outputs": [],
   "source": [
    "def run_model(path=path, data=data, All_set=All_set):\n",
    "    '''\n",
    "    可變參數：\n",
    "    1. test_size : 測試集大小\n",
    "    2. max_depth：隨機森林樹的層數\n",
    "    '''\n",
    "    no = []\n",
    "    acc_score_list = []\n",
    "    col_set = []\n",
    "    for num in range(len(All_set)):\n",
    "        i = All_set[num]\n",
    "        x = data.loc[:,i]\n",
    "        y = data.iloc[:,-1:]\n",
    "        col_set.append(i)\n",
    "        #切分測試訓練集\n",
    "        test_size = 0.15\n",
    "        x_train, x_test = train_test_split(x, test_size)\n",
    "        y_train, y_test = train_test_split(y, test_size)\n",
    "        #建立模型\n",
    "        model = RandomForestClassifier(max_depth=1000, random_state=0)\n",
    "        #訓練\n",
    "        model.fit(x_train, y_train)\n",
    "        #預測\n",
    "        y_pred = model.predict(x_test)\n",
    "        #畫混淆矩陣\n",
    "        mat = confusion_matrix(y_test, y_pred)\n",
    "        \n",
    "        \n",
    "        f, ax = plt.subplots(figsize=(9, 6))\n",
    "        ax.set_title('No.{}'.format(str(num)))\n",
    "        ax.set_xlabel('True label')\n",
    "        mat = confusion_matrix(y_test, y_pred)\n",
    "        ax = sns.heatmap(mat.T, square=True, annot=True, fmt='d', cbar=False)\n",
    "        plt.ylabel('Predicted label')\n",
    "        plt.xlabel('True label')\n",
    "        \n",
    "        f.savefig('{}/No.{}.png'.format(path,str(num)))\n",
    "        \n",
    "        \n",
    "        \n",
    "        acc_score = accuracy_score(y_test, y_pred, normalize=True)\n",
    "        acc_score_list.append(acc_score)\n",
    "        no.append(num)\n",
    "    all_model = pd.DataFrame()\n",
    "    all_model['No.'] = no\n",
    "    all_model['set'] = col_set\n",
    "    all_model['acc'] = acc_score_list\n",
    "    return all_model"
   ]
  },
  {
   "cell_type": "code",
   "execution_count": 22,
   "id": "8c75cb6e",
   "metadata": {},
   "outputs": [
    {
     "name": "stderr",
     "output_type": "stream",
     "text": [
      "<ipython-input-21-c59b7e76e038>:22: DataConversionWarning: A column-vector y was passed when a 1d array was expected. Please change the shape of y to (n_samples,), for example using ravel().\n",
      "  model.fit(x_train, y_train)\n",
      "<ipython-input-21-c59b7e76e038>:22: DataConversionWarning: A column-vector y was passed when a 1d array was expected. Please change the shape of y to (n_samples,), for example using ravel().\n",
      "  model.fit(x_train, y_train)\n",
      "<ipython-input-21-c59b7e76e038>:22: DataConversionWarning: A column-vector y was passed when a 1d array was expected. Please change the shape of y to (n_samples,), for example using ravel().\n",
      "  model.fit(x_train, y_train)\n",
      "<ipython-input-21-c59b7e76e038>:22: DataConversionWarning: A column-vector y was passed when a 1d array was expected. Please change the shape of y to (n_samples,), for example using ravel().\n",
      "  model.fit(x_train, y_train)\n",
      "<ipython-input-21-c59b7e76e038>:22: DataConversionWarning: A column-vector y was passed when a 1d array was expected. Please change the shape of y to (n_samples,), for example using ravel().\n",
      "  model.fit(x_train, y_train)\n",
      "<ipython-input-21-c59b7e76e038>:22: DataConversionWarning: A column-vector y was passed when a 1d array was expected. Please change the shape of y to (n_samples,), for example using ravel().\n",
      "  model.fit(x_train, y_train)\n",
      "<ipython-input-21-c59b7e76e038>:22: DataConversionWarning: A column-vector y was passed when a 1d array was expected. Please change the shape of y to (n_samples,), for example using ravel().\n",
      "  model.fit(x_train, y_train)\n",
      "<ipython-input-21-c59b7e76e038>:22: DataConversionWarning: A column-vector y was passed when a 1d array was expected. Please change the shape of y to (n_samples,), for example using ravel().\n",
      "  model.fit(x_train, y_train)\n",
      "<ipython-input-21-c59b7e76e038>:22: DataConversionWarning: A column-vector y was passed when a 1d array was expected. Please change the shape of y to (n_samples,), for example using ravel().\n",
      "  model.fit(x_train, y_train)\n",
      "<ipython-input-21-c59b7e76e038>:22: DataConversionWarning: A column-vector y was passed when a 1d array was expected. Please change the shape of y to (n_samples,), for example using ravel().\n",
      "  model.fit(x_train, y_train)\n"
     ]
    }
   ],
   "source": [
    "All_set_v2 = All_set[:10]\n",
    "all_model = run_model(path=path, data=data, All_set=All_set_v2)"
   ]
  },
  {
   "cell_type": "code",
   "execution_count": 23,
   "id": "1c2c7cd8",
   "metadata": {},
   "outputs": [],
   "source": [
    "all_model = all_model.sort_values('acc',ascending=False)\n",
    "all_model.to_csv(result_name+'.csv')"
   ]
  },
  {
   "cell_type": "code",
   "execution_count": null,
   "id": "6d61af02",
   "metadata": {},
   "outputs": [],
   "source": []
  }
 ],
 "metadata": {
  "kernelspec": {
   "display_name": "Python 3",
   "language": "python",
   "name": "python3"
  },
  "language_info": {
   "codemirror_mode": {
    "name": "ipython",
    "version": 3
   },
   "file_extension": ".py",
   "mimetype": "text/x-python",
   "name": "python",
   "nbconvert_exporter": "python",
   "pygments_lexer": "ipython3",
   "version": "3.8.11"
  }
 },
 "nbformat": 4,
 "nbformat_minor": 5
}
